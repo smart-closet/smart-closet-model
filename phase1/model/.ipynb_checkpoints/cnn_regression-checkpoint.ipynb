{
 "cells": [
  {
   "cell_type": "code",
   "execution_count": 1,
   "id": "38cff4c6-c812-46ec-ac83-652c251428e6",
   "metadata": {},
   "outputs": [
    {
     "name": "stderr",
     "output_type": "stream",
     "text": [
      "2024-08-18 00:00:26.555272: I tensorflow/core/platform/cpu_feature_guard.cc:182] This TensorFlow binary is optimized to use available CPU instructions in performance-critical operations.\n",
      "To enable the following instructions: AVX2 FMA, in other operations, rebuild TensorFlow with the appropriate compiler flags.\n"
     ]
    },
    {
     "name": "stdout",
     "output_type": "stream",
     "text": [
      "Train shapes: X1: (2879, 224, 224, 3), X2: (2879, 224, 224, 3), y: (2879,)\n",
      "Test shapes: X1: (320, 224, 224, 3), X2: (320, 224, 224, 3), y: (320,)\n"
     ]
    }
   ],
   "source": [
    "import pandas as pd\n",
    "import numpy as np\n",
    "import tensorflow as tf\n",
    "from tensorflow.keras.preprocessing.image import load_img, img_to_array\n",
    "from sklearn.model_selection import train_test_split\n",
    "from tensorflow.keras.models import Model\n",
    "from tensorflow.keras.layers import Input, Conv2D, MaxPooling2D, Flatten, Dense, Concatenate\n",
    "\n",
    "# read CSV\n",
    "good_df = pd.read_csv('../outfits/good_outfits.csv')\n",
    "bad_df = pd.read_csv('../outfits/ugly_outfits.csv')\n",
    "\n",
    "good_df['label'] = 1\n",
    "bad_df['label'] = 0\n",
    "\n",
    "data = pd.concat([good_df[['img_pathE', 'img_pathQ', 'label']],\n",
    "                  bad_df[['img_pathE', 'img_pathQ', 'label']]])\n",
    "\n",
    "\n",
    "# img -> arr\n",
    "def load_and_preprocess_image(img_path, target_size=(224, 224)):\n",
    "    img = load_img(img_path, target_size=target_size)\n",
    "    img = img_to_array(img)\n",
    "    img = img / 255.0  # normalize\n",
    "    return img\n",
    "\n",
    "\n",
    "X1, X2, y = [], [], []\n",
    "\n",
    "for _, row in data.iterrows():\n",
    "    imgE = load_and_preprocess_image(row['img_pathE'])\n",
    "    imgQ = load_and_preprocess_image(row['img_pathQ'])\n",
    "    X1.append(imgE)\n",
    "    X2.append(imgQ)\n",
    "    y.append(row['label'])\n",
    "\n",
    "X1 = np.array(X1)\n",
    "X2 = np.array(X2)\n",
    "y = np.array(y)\n",
    "\n",
    "\n",
    "# dataset\n",
    "X1_train, X1_test, X2_train, X2_test, y_train, y_test = train_test_split(X1, X2, y, test_size=0.1, random_state=42, stratify = y)\n",
    "print(f\"Train shapes: X1: {X1_train.shape}, X2: {X2_train.shape}, y: {y_train.shape}\")\n",
    "print(f\"Test shapes: X1: {X1_test.shape}, X2: {X2_test.shape}, y: {y_test.shape}\")"
   ]
  },
  {
   "cell_type": "markdown",
   "id": "2e3d40c6-a23a-4678-a0d0-54e911c07ce7",
   "metadata": {},
   "source": [
    "### model"
   ]
  },
  {
   "cell_type": "code",
   "execution_count": 2,
   "id": "0bff64e3-6a7e-463f-be77-505c63c0eeb7",
   "metadata": {},
   "outputs": [
    {
     "name": "stdout",
     "output_type": "stream",
     "text": [
      "Model: \"model\"\n",
      "__________________________________________________________________________________________________\n",
      " Layer (type)                Output Shape                 Param #   Connected to                  \n",
      "==================================================================================================\n",
      " input_1 (InputLayer)        [(None, 224, 224, 3)]        0         []                            \n",
      "                                                                                                  \n",
      " input_2 (InputLayer)        [(None, 224, 224, 3)]        0         []                            \n",
      "                                                                                                  \n",
      " conv2d (Conv2D)             (None, 222, 222, 32)         896       ['input_1[0][0]']             \n",
      "                                                                                                  \n",
      " conv2d_1 (Conv2D)           (None, 222, 222, 32)         896       ['input_2[0][0]']             \n",
      "                                                                                                  \n",
      " max_pooling2d (MaxPooling2  (None, 111, 111, 32)         0         ['conv2d[0][0]']              \n",
      " D)                                                                                               \n",
      "                                                                                                  \n",
      " max_pooling2d_1 (MaxPoolin  (None, 111, 111, 32)         0         ['conv2d_1[0][0]']            \n",
      " g2D)                                                                                             \n",
      "                                                                                                  \n",
      " flatten (Flatten)           (None, 394272)               0         ['max_pooling2d[0][0]']       \n",
      "                                                                                                  \n",
      " flatten_1 (Flatten)         (None, 394272)               0         ['max_pooling2d_1[0][0]']     \n",
      "                                                                                                  \n",
      " concatenate (Concatenate)   (None, 788544)               0         ['flatten[0][0]',             \n",
      "                                                                     'flatten_1[0][0]']           \n",
      "                                                                                                  \n",
      " dense (Dense)               (None, 64)                   5046688   ['concatenate[0][0]']         \n",
      "                                                          0                                       \n",
      "                                                                                                  \n",
      " dense_1 (Dense)             (None, 1)                    65        ['dense[0][0]']               \n",
      "                                                                                                  \n",
      "==================================================================================================\n",
      "Total params: 50468737 (192.52 MB)\n",
      "Trainable params: 50468737 (192.52 MB)\n",
      "Non-trainable params: 0 (0.00 Byte)\n",
      "__________________________________________________________________________________________________\n"
     ]
    }
   ],
   "source": [
    "# CNN regression model\n",
    "\n",
    "inputE = Input(shape=(224, 224, 3))\n",
    "inputQ = Input(shape=(224, 224, 3))\n",
    "\n",
    "# CNN imgE\n",
    "x1 = Conv2D(32, (3, 3), activation='relu')(inputE)\n",
    "x1 = MaxPooling2D((2, 2))(x1)\n",
    "x1 = Flatten()(x1)\n",
    "\n",
    "# CNN imgQ\n",
    "x2 = Conv2D(32, (3, 3), activation='relu')(inputQ)\n",
    "x2 = MaxPooling2D((2, 2))(x2)\n",
    "x2 = Flatten()(x2)\n",
    "\n",
    "# imgE + imgQ CNN outputs\n",
    "combined = Concatenate()([x1, x2])\n",
    "\n",
    "# to 1 dim\n",
    "x = Dense(64, activation='relu')(combined)\n",
    "output = Dense(1, activation='sigmoid')(x)\n",
    "\n",
    "# model instance\n",
    "model = Model(inputs=[inputE, inputQ], outputs=output)\n",
    "model.compile(optimizer='adam', loss='binary_crossentropy', metrics=['accuracy', 'mean_squared_error'])\n",
    "model.summary()"
   ]
  },
  {
   "cell_type": "code",
   "execution_count": 3,
   "id": "bc955f1e-7d9a-4b1d-86a3-d051edc4d131",
   "metadata": {},
   "outputs": [
    {
     "name": "stdout",
     "output_type": "stream",
     "text": [
      "Epoch 1/10\n",
      "72/72 [==============================] - 108s 1s/step - loss: 0.6041 - accuracy: 0.8176 - mean_squared_error: 0.1409 - val_loss: 0.3537 - val_accuracy: 0.8663 - val_mean_squared_error: 0.1042\n",
      "Epoch 2/10\n",
      "72/72 [==============================] - 117s 2s/step - loss: 0.2288 - accuracy: 0.9153 - mean_squared_error: 0.0653 - val_loss: 0.3454 - val_accuracy: 0.8524 - val_mean_squared_error: 0.1002\n",
      "Epoch 3/10\n",
      "72/72 [==============================] - 114s 2s/step - loss: 0.0769 - accuracy: 0.9787 - mean_squared_error: 0.0187 - val_loss: 0.3764 - val_accuracy: 0.8646 - val_mean_squared_error: 0.1008\n",
      "Epoch 4/10\n",
      "72/72 [==============================] - 112s 2s/step - loss: 0.0170 - accuracy: 0.9978 - mean_squared_error: 0.0025 - val_loss: 0.4453 - val_accuracy: 0.8698 - val_mean_squared_error: 0.1038\n",
      "Epoch 5/10\n",
      "72/72 [==============================] - 94s 1s/step - loss: 0.0046 - accuracy: 1.0000 - mean_squared_error: 2.1304e-04 - val_loss: 0.4957 - val_accuracy: 0.8698 - val_mean_squared_error: 0.1051\n",
      "Epoch 6/10\n",
      "72/72 [==============================] - 96s 1s/step - loss: 0.0017 - accuracy: 1.0000 - mean_squared_error: 2.2222e-05 - val_loss: 0.5711 - val_accuracy: 0.8698 - val_mean_squared_error: 0.1070\n",
      "Epoch 7/10\n",
      "72/72 [==============================] - 90s 1s/step - loss: 8.6630e-04 - accuracy: 1.0000 - mean_squared_error: 5.3759e-06 - val_loss: 0.6053 - val_accuracy: 0.8698 - val_mean_squared_error: 0.1083\n",
      "Epoch 8/10\n",
      "72/72 [==============================] - 82s 1s/step - loss: 5.9195e-04 - accuracy: 1.0000 - mean_squared_error: 2.4010e-06 - val_loss: 0.6182 - val_accuracy: 0.8698 - val_mean_squared_error: 0.1085\n",
      "Epoch 9/10\n",
      "72/72 [==============================] - 86s 1s/step - loss: 4.3301e-04 - accuracy: 1.0000 - mean_squared_error: 1.3642e-06 - val_loss: 0.6234 - val_accuracy: 0.8698 - val_mean_squared_error: 0.1092\n",
      "Epoch 10/10\n",
      "72/72 [==============================] - 84s 1s/step - loss: 3.3115e-04 - accuracy: 1.0000 - mean_squared_error: 7.1240e-07 - val_loss: 0.6572 - val_accuracy: 0.8698 - val_mean_squared_error: 0.1094\n"
     ]
    },
    {
     "data": {
      "text/plain": [
       "<keras.src.callbacks.History at 0x7f9fded2d8e0>"
      ]
     },
     "execution_count": 3,
     "metadata": {},
     "output_type": "execute_result"
    }
   ],
   "source": [
    "# train\n",
    "model.fit([X1_train, X2_train], y_train, epochs=10, batch_size=32, validation_split=0.2)"
   ]
  },
  {
   "cell_type": "code",
   "execution_count": 4,
   "id": "14446214-6072-4a70-858c-19a1b8cec0d3",
   "metadata": {},
   "outputs": [],
   "source": [
    "import keras\n",
    "\n",
    "# save\n",
    "model.save('cnn_regression.keras') "
   ]
  },
  {
   "cell_type": "markdown",
   "id": "567450d1-d0d1-4bd0-8ec3-1cfee12dfded",
   "metadata": {},
   "source": [
    "### test"
   ]
  },
  {
   "cell_type": "code",
   "execution_count": 5,
   "id": "2bf0521d-9cdc-47d3-add7-04d6a0a43777",
   "metadata": {},
   "outputs": [
    {
     "name": "stdout",
     "output_type": "stream",
     "text": [
      "10/10 [==============================] - 3s 266ms/step - loss: 0.4953 - accuracy: 0.8969 - mean_squared_error: 0.0877\n",
      "Test loss: 0.4953\n",
      "Test accuracy: 0.8969\n",
      "Test mse: 0.0877\n"
     ]
    }
   ],
   "source": [
    "# model evaluate\n",
    "test_loss, test_acc, test_mse = model.evaluate([X1_test, X2_test], y_test)\n",
    "print(f\"Test loss: {test_loss:.4f}\")\n",
    "print(f\"Test accuracy: {test_acc:.4f}\")\n",
    "print(f\"Test mse: {test_mse:.4f}\")"
   ]
  },
  {
   "cell_type": "code",
   "execution_count": 6,
   "id": "0b173a1d-238a-45d4-9cfd-e05dd37167c2",
   "metadata": {},
   "outputs": [
    {
     "name": "stdout",
     "output_type": "stream",
     "text": [
      "10/10 [==============================] - 3s 244ms/step\n",
      "[SVM] MSE = 0.08772144919596575, MAE = 0.11077081705810435\n"
     ]
    }
   ],
   "source": [
    "from sklearn.metrics import mean_squared_error, mean_absolute_error\n",
    "\n",
    "# mse, mae\n",
    "y_pred = model.predict([X1_test, X2_test])\n",
    "mse = mean_squared_error(y_test, y_pred)\n",
    "mae = mean_absolute_error(y_test, y_pred)\n",
    "print(f'[SVM] MSE = {mse}, MAE = {mae}')"
   ]
  },
  {
   "cell_type": "markdown",
   "id": "3ea5722e-cc1d-40b7-be7d-2ab3dea139e9",
   "metadata": {},
   "source": [
    "### end"
   ]
  }
 ],
 "metadata": {
  "kernelspec": {
   "display_name": "Python 3 (ipykernel)",
   "language": "python",
   "name": "python3"
  },
  "language_info": {
   "codemirror_mode": {
    "name": "ipython",
    "version": 3
   },
   "file_extension": ".py",
   "mimetype": "text/x-python",
   "name": "python",
   "nbconvert_exporter": "python",
   "pygments_lexer": "ipython3",
   "version": "3.9.12"
  }
 },
 "nbformat": 4,
 "nbformat_minor": 5
}
