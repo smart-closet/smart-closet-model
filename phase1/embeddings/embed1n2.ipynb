{
 "cells": [
  {
   "cell_type": "markdown",
   "id": "e060520d-cb0f-4ee8-ac65-11ae91efcb31",
   "metadata": {
    "tags": []
   },
   "source": [
    "### model"
   ]
  },
  {
   "cell_type": "code",
   "execution_count": 1,
   "id": "fe1d3bfe-0a72-4fa4-a838-757229dce5d9",
   "metadata": {},
   "outputs": [],
   "source": [
    "# im-project-main/models\n",
    "MODEL_PATH = \"lib/df1.pkl\"\n",
    "CLASSES_PATH = \"lib/attribute-classes.txt\""
   ]
  },
  {
   "cell_type": "code",
   "execution_count": 2,
   "id": "3dfdf724-1b2f-4f1d-b223-2291053316fb",
   "metadata": {},
   "outputs": [],
   "source": [
    "import torch\n",
    "from torchvision import transforms\n",
    "from torch.autograd import Variable\n",
    "from PIL import Image\n",
    "import torch.nn as nn\n",
    "import os\n",
    "\n",
    "\n",
    "class AttributePredictionModel:\n",
    "    \n",
    "    def __init__(self):\n",
    "        self.model = None\n",
    "        self.labels = []\n",
    "        \n",
    "    def load(self, model_path, labels_path, eval_mode=False):\n",
    "        self.model = torch.load(model_path)\n",
    "        self.model.eval()  # mode: eval\n",
    "        self.labels = open(labels_path, 'r').read().splitlines()\n",
    "        \n",
    "        if eval_mode:\n",
    "            print(self.model)\n",
    "    \n",
    "    def predict(self, image_path, threshold=0.1):\n",
    "        device = torch.device(\"cpu\")\n",
    "        img = Image.open(image_path).convert('RGB')\n",
    "        \n",
    "        test_transforms = transforms.Compose([\n",
    "            transforms.Resize(224),\n",
    "            transforms.ToTensor(),\n",
    "            transforms.Normalize([0.485, 0.456, 0.406], [0.229, 0.224, 0.225])\n",
    "        ])\n",
    "        \n",
    "        image_tensor = test_transforms(img).float()\n",
    "        image_tensor = image_tensor.unsqueeze_(0)  # 增加 batch 維度\n",
    "        inp = Variable(image_tensor).to(device)\n",
    "        \n",
    "        with torch.no_grad():\n",
    "            output = self.model(inp)\n",
    "        \n",
    "        # raw output --> prob[0, 1], pred{0, 1}, att\n",
    "        probabilities = torch.sigmoid(output).cpu().numpy()[0]\n",
    "        predictions = (probabilities >= threshold).astype(int)\n",
    "        predicted_attributes = [self.labels[i] for i in range(len(predictions)) if predictions[i] == 1]\n",
    "        return probabilities, predictions, predicted_attributes\n",
    "\n",
    "# model instance\n",
    "learner = AttributePredictionModel()\n",
    "learner.load(MODEL_PATH, CLASSES_PATH)"
   ]
  },
  {
   "cell_type": "markdown",
   "id": "346c3bc0-6402-4930-bb22-a503a4ec2032",
   "metadata": {
    "tags": []
   },
   "source": [
    "### img2vec"
   ]
  },
  {
   "cell_type": "code",
   "execution_count": 3,
   "id": "40facc50-5a7f-45d7-a312-84afc50858e9",
   "metadata": {},
   "outputs": [],
   "source": [
    "def img2vec(imgE_path, imgQ_path):\n",
    "    \n",
    "    # img -> prob or multi-hot\n",
    "    probE, predE, attE = learner.predict(imgE_path)\n",
    "    probQ, predQ, attQ = learner.predict(imgQ_path)\n",
    "\n",
    "    probEQ = list(probE) + list(probQ)\n",
    "    predEQ = list(predE) + list(predQ)\n",
    "\n",
    "    #print(\"probEQ\", probEQ)\n",
    "    #print(\"predEQ\", predEQ)\n",
    "\n",
    "    #print(f\"Predicted attributes (E): {attE}\")\n",
    "    #print(f\"Predicted attributes (Q): {attQ}\")\n",
    "    \n",
    "    return probEQ, probE, probQ, predEQ, predE, predQ"
   ]
  },
  {
   "cell_type": "markdown",
   "id": "c6cd329b-0f0c-4e6e-bbb8-0e1a29ccf20d",
   "metadata": {
    "tags": []
   },
   "source": [
    "### good data (input good data, output good embeddings)"
   ]
  },
  {
   "cell_type": "code",
   "execution_count": 10,
   "id": "4f0fe23a-0e2b-4133-8876-de6900914d26",
   "metadata": {},
   "outputs": [
    {
     "name": "stdout",
     "output_type": "stream",
     "text": [
      "機率的 embedding 儲存在 'good_embedding_probEQ.csv' 檔案中，共 2094 筆資料。\n",
      "向量長度依序為 outfits(196), 上/下衣(98)。\n",
      "向量長相 [0.05056207 0.04765347 0.04989205 0.05843196 0.05016752]... \n",
      "\n",
      "multi-hot 的 embedding 儲存在 'good_embedding_predEQ.csv' 檔案中，共 2094 筆資料。\n",
      "向量長度依序為 outfits(196), 上/下衣(98)。\n",
      "向量長相 [0 0 0 0 0]... \n"
     ]
    }
   ],
   "source": [
    "import csv\n",
    "\n",
    "# input outfits file\n",
    "outfits_file = '../outfits/good_outfits.csv'\n",
    "\n",
    "# output embedding file\n",
    "prob_file = 'good_embedding_probEQ.csv'\n",
    "pred_file = 'good_embedding_predEQ.csv'\n",
    "label = 1  ### 1 or 0\n",
    "\n",
    "prob_rows = []\n",
    "pred_rows = []\n",
    "\n",
    "# read outfits_file\n",
    "with open(outfits_file, mode='r') as file:\n",
    "    reader = csv.DictReader(file)\n",
    "    for row in reader:\n",
    "        index = row['index']  ### good\n",
    "        img_path = row['img_path']  ### good\n",
    "        img_pathE = row['img_pathE']\n",
    "        img_pathQ = row['img_pathQ']\n",
    "        \n",
    "        probEQ, probE, probQ, predEQ, predE, predQ = img2vec(img_pathE, img_pathQ)\n",
    "        \n",
    "        prob_rows.append([index, img_path, probEQ, label, probE, probQ])  ### good\n",
    "        pred_rows.append([index, img_path, predEQ, label, predE, predQ])  ### good\n",
    "\n",
    "# write prob_file\n",
    "with open(prob_file, mode='w', newline='') as file:\n",
    "    writer = csv.writer(file)\n",
    "    writer.writerow(['index', 'img_path', 'probEQ', 'label', 'probE', 'probQ'])  ### good\n",
    "    writer.writerows(prob_rows)\n",
    "\n",
    "# write pred_file\n",
    "with open(pred_file, mode='w', newline='') as file:\n",
    "    writer = csv.writer(file)\n",
    "    writer.writerow(['index', 'img_path', 'predEQ', 'label', 'predE', 'predQ'])  ### good\n",
    "    writer.writerows(pred_rows)\n",
    "\n",
    "print(f\"機率的 embedding 儲存在 '{prob_file}' 檔案中，共 {len(prob_rows)} 筆資料。\")\n",
    "print(f\"向量長度依序為 outfits({len(prob_rows[0][2])}), 上/下衣({len(prob_rows[0][4])})。\")\n",
    "print(f\"向量長相 {prob_rows[0][4][:5]}... \")\n",
    "print()\n",
    "print(f\"multi-hot 的 embedding 儲存在 '{pred_file}' 檔案中，共 {len(pred_rows)} 筆資料。\")\n",
    "print(f\"向量長度依序為 outfits({len(pred_rows[0][2])}), 上/下衣({len(pred_rows[0][4])})。\")\n",
    "print(f\"向量長相 {pred_rows[0][4][:5]}... \")"
   ]
  },
  {
   "cell_type": "markdown",
   "id": "2ab1f618-616f-4813-a02c-fa5933b8b776",
   "metadata": {},
   "source": [
    "### good4 data (追加台風)"
   ]
  },
  {
   "cell_type": "code",
   "execution_count": 12,
   "id": "1380a45d-b7e2-4aa6-8098-031efe3c5ec6",
   "metadata": {},
   "outputs": [
    {
     "name": "stdout",
     "output_type": "stream",
     "text": [
      "機率的 embedding 儲存在 'good4_embedding_probEQ.csv' 檔案中，共 2791 筆資料。\n",
      "向量長度依序為 outfits(196), 上/下衣(98)。\n",
      "向量長相 [0.04968239 0.05269612 0.05309688 0.07222343 0.05555998]... \n",
      "\n",
      "multi-hot 的 embedding 儲存在 'good4_embedding_predEQ.csv' 檔案中，共 2791 筆資料。\n",
      "向量長度依序為 outfits(196), 上/下衣(98)。\n",
      "向量長相 [0 0 0 0 0]... \n"
     ]
    }
   ],
   "source": [
    "import csv\n",
    "import shutil # copy csv\n",
    "import itertools # skip row (csv)\n",
    "\n",
    "# input outfits file\n",
    "outfits_file = '../outfits/good4_outfits.csv'\n",
    "\n",
    "# output embedding file\n",
    "old_prob_file = '../embeddings/model_train/good_embedding_probEQ.csv'\n",
    "old_pred_file = '../embeddings/model_train/good_embedding_predEQ.csv'\n",
    "prob_file = 'good4_embedding_probEQ.csv'\n",
    "pred_file = 'good4_embedding_predEQ.csv'\n",
    "shutil.copyfile(old_prob_file, prob_file)\n",
    "shutil.copyfile(old_pred_file, pred_file)\n",
    "\n",
    "label = 1  ### 1 or 0\n",
    "\n",
    "prob_rows = []\n",
    "pred_rows = []\n",
    "\n",
    "# read outfits_file\n",
    "with open(outfits_file, mode='r') as file:\n",
    "    reader = csv.DictReader(file)\n",
    "    t_flag = False\n",
    "    \n",
    "    for row in reader:\n",
    "        index = row['index']  ### good\n",
    "        \n",
    "        if index.startswith(\"14_\"): # skip 前段\n",
    "            t_flag = True\n",
    "        \n",
    "        if t_flag:\n",
    "            img_path = row['img_path']  ### good\n",
    "            img_pathE = row['img_pathE']\n",
    "            img_pathQ = row['img_pathQ']\n",
    "\n",
    "            probEQ, probE, probQ, predEQ, predE, predQ = img2vec(img_pathE, img_pathQ)\n",
    "\n",
    "            prob_rows.append([index, img_path, probEQ, label, probE, probQ])  ### good\n",
    "            pred_rows.append([index, img_path, predEQ, label, predE, predQ])  ### good\n",
    "\n",
    "# write prob_file\n",
    "with open(prob_file, mode='a+', newline='') as file:\n",
    "    writer = csv.writer(file)\n",
    "    writer.writerows(prob_rows)\n",
    "\n",
    "# write pred_file\n",
    "with open(pred_file, mode='a+', newline='') as file:\n",
    "    writer = csv.writer(file)\n",
    "    writer.writerows(pred_rows)\n",
    "\n",
    "# counter\n",
    "cntProb = 0\n",
    "cntPred = 0\n",
    "with open(prob_file, mode='r', newline='') as file:\n",
    "    reader = csv.DictReader(file)\n",
    "    row_count = sum(1 for row in reader)\n",
    "    cntProb = row_count - 1  # 應該不用扣掉才對\n",
    "    \n",
    "with open(pred_file, mode='r', newline='') as file:\n",
    "    reader = csv.DictReader(file)\n",
    "    row_count = sum(1 for row in reader)\n",
    "    cntPred = row_count - 1  # 應該不用扣掉才對\n",
    "    \n",
    "print(f\"機率的 embedding 儲存在 '{prob_file}' 檔案中，共 {cntProb} 筆資料。\")\n",
    "print(f\"向量長度依序為 outfits({len(prob_rows[0][2])}), 上/下衣({len(prob_rows[0][4])})。\")\n",
    "print(f\"向量長相 {prob_rows[0][4][:5]}... \")\n",
    "print()\n",
    "print(f\"multi-hot 的 embedding 儲存在 '{pred_file}' 檔案中，共 {cntPred} 筆資料。\")\n",
    "print(f\"向量長度依序為 outfits({len(pred_rows[0][2])}), 上/下衣({len(pred_rows[0][4])})。\")\n",
    "print(f\"向量長相 {pred_rows[0][4][:5]}... \")"
   ]
  },
  {
   "cell_type": "markdown",
   "id": "19ab1a08-a081-45f2-9219-4ab2e83fc0ba",
   "metadata": {
    "tags": []
   },
   "source": [
    "### bad data (input bad data, output bad embeddings)"
   ]
  },
  {
   "cell_type": "code",
   "execution_count": 13,
   "id": "763d02d2-becc-4c51-8df4-f56689ca219a",
   "metadata": {},
   "outputs": [
    {
     "name": "stdout",
     "output_type": "stream",
     "text": [
      "機率的 embedding 儲存在 'bad_embedding_probEQ.csv' 檔案中，共 2094 筆資料。\n",
      "向量長度依序為 outfits(196), 上/下衣(98)。\n",
      "向量長相 [0.048503175, 0.04974859, 0.054003127, 0.06407535, 0.052572835]... \n",
      "\n",
      "multi-hot 的 embedding 儲存在 'bad_embedding_predEQ.csv' 檔案中，共 2094 筆資料。\n",
      "向量長度依序為 outfits(196), 上/下衣(98)。\n",
      "向量長相 [0, 0, 0, 0, 0]... \n"
     ]
    }
   ],
   "source": [
    "import csv\n",
    "\n",
    "# input outfits file\n",
    "outfits_file = '../outfits/bad_outfits.csv'\n",
    "\n",
    "# output embedding file\n",
    "prob_file = 'bad_embedding_probEQ.csv'\n",
    "pred_file = 'bad_embedding_predEQ.csv'\n",
    "label = 0  ### 1 or 0\n",
    "\n",
    "prob_rows = []\n",
    "pred_rows = []\n",
    "\n",
    "# read outfits_file\n",
    "with open(outfits_file, mode='r') as file:\n",
    "    reader = csv.DictReader(file)\n",
    "    for row in reader:\n",
    "        idxE = row['idxE']  ### bad\n",
    "        idxQ = row['idxQ']  ### bad\n",
    "        img_pathE = row['img_pathE']\n",
    "        img_pathQ = row['img_pathQ']\n",
    "        \n",
    "        probEQ, probE, probQ, predEQ, predE, predQ = img2vec(img_pathE, img_pathQ)\n",
    "        \n",
    "        prob_rows.append([idxE, idxQ, img_pathE, img_pathQ, probEQ, label, probE, probQ])  ### bad\n",
    "        pred_rows.append([idxE, idxQ, img_pathE, img_pathQ, predEQ, label, predE, predQ])  ### bad\n",
    "\n",
    "# write prob_file\n",
    "with open(prob_file, mode='w', newline='') as file:\n",
    "    writer = csv.writer(file)\n",
    "    writer.writerow(['idxE', 'idxQ', 'img_pathE', 'img_pathQ', 'probEQ', 'label', 'probE', 'probQ'])  ### bad\n",
    "    writer.writerows(prob_rows)\n",
    "\n",
    "# write pred_file\n",
    "with open(pred_file, mode='w', newline='') as file:\n",
    "    writer = csv.writer(file)\n",
    "    writer.writerow(['idxE', 'idxQ', 'img_pathE', 'img_pathQ', 'predEQ', 'label', 'predE', 'predQ'])  ### bad\n",
    "    writer.writerows(pred_rows)\n",
    "\n",
    "print(f\"機率的 embedding 儲存在 '{prob_file}' 檔案中，共 {len(prob_rows)} 筆資料。\")\n",
    "print(f\"向量長度依序為 outfits({len(prob_rows[0][4])}), 上/下衣({len(prob_rows[0][6])})。\")\n",
    "print(f\"向量長相 {prob_rows[0][4][:5]}... \")\n",
    "print()\n",
    "print(f\"multi-hot 的 embedding 儲存在 '{pred_file}' 檔案中，共 {len(pred_rows)} 筆資料。\")\n",
    "print(f\"向量長度依序為 outfits({len(pred_rows[0][4])}), 上/下衣({len(pred_rows[0][6])})。\")\n",
    "print(f\"向量長相 {pred_rows[0][4][:5]}... \")"
   ]
  },
  {
   "cell_type": "markdown",
   "id": "fc8edd0b-c7ac-4676-b92c-38f679d1f4ee",
   "metadata": {},
   "source": [
    "### ugly data (input ugly data, output ugly embeddings)"
   ]
  },
  {
   "cell_type": "code",
   "execution_count": 4,
   "id": "57907e1f-1553-42bf-83bd-8ed47851a114",
   "metadata": {},
   "outputs": [
    {
     "name": "stdout",
     "output_type": "stream",
     "text": [
      "機率的 embedding 儲存在 'ugly_embedding_probEQ.csv' 檔案中，共 1105 筆資料。\n",
      "向量長度依序為 outfits(196), 上/下衣(98)。\n",
      "向量長相 [0.0566553  0.053541   0.05741191 0.06693212 0.06797753]... \n",
      "\n",
      "multi-hot 的 embedding 儲存在 'ugly_embedding_predEQ.csv' 檔案中，共 1105 筆資料。\n",
      "向量長度依序為 outfits(196), 上/下衣(98)。\n",
      "向量長相 [0 0 0 0 0]... \n"
     ]
    }
   ],
   "source": [
    "import csv\n",
    "\n",
    "# input outfits file\n",
    "outfits_file = '../outfits/ugly_outfits.csv'\n",
    "\n",
    "# output embedding file\n",
    "prob_file = 'ugly_embedding_probEQ.csv'\n",
    "pred_file = 'ugly_embedding_predEQ.csv'\n",
    "label = 0  ### 1 or 0\n",
    "\n",
    "prob_rows = []\n",
    "pred_rows = []\n",
    "\n",
    "# read outfits_file\n",
    "with open(outfits_file, mode='r') as file:\n",
    "    reader = csv.DictReader(file)\n",
    "    for row in reader:\n",
    "        index = row['index']  ### ugly\n",
    "        img_path = row['img_path']  ### ugly\n",
    "        img_pathE = row['img_pathE']\n",
    "        img_pathQ = row['img_pathQ']\n",
    "        \n",
    "        probEQ, probE, probQ, predEQ, predE, predQ = img2vec(img_pathE, img_pathQ)\n",
    "        \n",
    "        prob_rows.append([index, img_path, probEQ, label, probE, probQ])  ### ugly\n",
    "        pred_rows.append([index, img_path, predEQ, label, predE, predQ])  ### ugly\n",
    "\n",
    "# write prob_file\n",
    "with open(prob_file, mode='w', newline='') as file:\n",
    "    writer = csv.writer(file)\n",
    "    writer.writerow(['index', 'img_path', 'probEQ', 'label', 'probE', 'probQ'])  ### ugly\n",
    "    writer.writerows(prob_rows)\n",
    "\n",
    "# write pred_file\n",
    "with open(pred_file, mode='w', newline='') as file:\n",
    "    writer = csv.writer(file)\n",
    "    writer.writerow(['index', 'img_path', 'predEQ', 'label', 'predE', 'predQ'])  ### ugly\n",
    "    writer.writerows(pred_rows)\n",
    "\n",
    "print(f\"機率的 embedding 儲存在 '{prob_file}' 檔案中，共 {len(prob_rows)} 筆資料。\")\n",
    "print(f\"向量長度依序為 outfits({len(prob_rows[0][2])}), 上/下衣({len(prob_rows[0][4])})。\")\n",
    "print(f\"向量長相 {prob_rows[0][4][:5]}... \")\n",
    "print()\n",
    "print(f\"multi-hot 的 embedding 儲存在 '{pred_file}' 檔案中，共 {len(pred_rows)} 筆資料。\")\n",
    "print(f\"向量長度依序為 outfits({len(pred_rows[0][2])}), 上/下衣({len(pred_rows[0][4])})。\")\n",
    "print(f\"向量長相 {pred_rows[0][4][:5]}... \")"
   ]
  },
  {
   "cell_type": "markdown",
   "id": "1f6f3532-5d39-4e33-8dfe-98e8d68864a0",
   "metadata": {},
   "source": [
    "### end"
   ]
  }
 ],
 "metadata": {
  "kernelspec": {
   "display_name": "Python 3 (ipykernel)",
   "language": "python",
   "name": "python3"
  },
  "language_info": {
   "codemirror_mode": {
    "name": "ipython",
    "version": 3
   },
   "file_extension": ".py",
   "mimetype": "text/x-python",
   "name": "python",
   "nbconvert_exporter": "python",
   "pygments_lexer": "ipython3",
   "version": "3.9.12"
  }
 },
 "nbformat": 4,
 "nbformat_minor": 5
}
