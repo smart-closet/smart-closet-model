{
 "cells": [
  {
   "cell_type": "markdown",
   "id": "cf1e6235-7b09-490d-85c7-233a1cd33f43",
   "metadata": {
    "tags": []
   },
   "source": [
    "### 0. 取出好的 outfits"
   ]
  },
  {
   "cell_type": "code",
   "execution_count": 1,
   "id": "dd6a69c4-eca8-48ff-9dc0-5fe261216ee4",
   "metadata": {},
   "outputs": [],
   "source": [
    "DATA_PATH_PREFIX = \"../new_data/style:\"  # + STYLE\n",
    "CUT_DATA_PATH_PREFIX = \"../new_data/cut_style:\"  # + STYLE"
   ]
  },
  {
   "cell_type": "code",
   "execution_count": 2,
   "id": "c0185c99-981e-42d8-b1de-94c67f79c9df",
   "metadata": {},
   "outputs": [],
   "source": [
    "import os\n",
    "import csv\n",
    "\n",
    "def get_outfits(STYLE, STYLE_NUMBER):\n",
    "    \n",
    "    DATA_PATH = DATA_PATH_PREFIX + STYLE\n",
    "    CUT_DATA_PATH = CUT_DATA_PATH_PREFIX + STYLE\n",
    "    \n",
    "    data_files = os.listdir(DATA_PATH)\n",
    "    cut_data_files = os.listdir(CUT_DATA_PATH)\n",
    "\n",
    "    outfits = []  # 上衣、下衣都存在\n",
    "    failed = []  # 其他\n",
    "\n",
    "    # get outfits\n",
    "    for data_file in data_files:\n",
    "        # \"1.jpg\" --> \"1\"\n",
    "        index_str = os.path.splitext(data_file)[0]\n",
    "        try:\n",
    "            index = int(index_str)\n",
    "        except ValueError:\n",
    "            print(index_str)\n",
    "            continue\n",
    "\n",
    "        e_filename = f\"{STYLE_NUMBER}_{index}_E_.jpg\"\n",
    "        q_filename = f\"{STYLE_NUMBER}_{index}_Q_.jpg\"\n",
    "\n",
    "        # check if 上衣、下衣都存在\n",
    "        if e_filename in cut_data_files and q_filename in cut_data_files:\n",
    "            outfit = {\n",
    "                \"index\": index,\n",
    "                \"img_path\": os.path.join(DATA_PATH, data_file),\n",
    "                \"img_pathE\": os.path.join(CUT_DATA_PATH, e_filename),\n",
    "                \"img_pathQ\": os.path.join(CUT_DATA_PATH, q_filename)\n",
    "            }\n",
    "            outfits.append(outfit)\n",
    "        else:\n",
    "            failed.append(index)\n",
    "\n",
    "    # sort\n",
    "    outfits.sort(key=lambda x: x[\"index\"])\n",
    "    for outfit in outfits:\n",
    "        outfit[\"index\"] = f\"{STYLE_NUMBER}_{outfit['index']}\"\n",
    "    failed.sort()\n",
    "\n",
    "    # write\n",
    "    good_outfits_file = \"good_outfits_\" + STYLE + \".csv\"\n",
    "\n",
    "    with open(good_outfits_file, mode='w', newline='') as file:\n",
    "        writer = csv.DictWriter(file, fieldnames=[\"index\", \"img_path\", \"img_pathE\", \"img_pathQ\"])\n",
    "        writer.writeheader()\n",
    "        for outfit in outfits:\n",
    "            writer.writerow(outfit)\n",
    "\n",
    "    print(f\"\\n好的 outfits 儲存在 {good_outfits_file} 中，共 {len(outfits)} 筆資料。\")\n",
    "    print(f\"\\n不完全的 outfits index 有 {len(failed)} 筆：{failed}\")\n",
    "    \n",
    "    return outfits"
   ]
  },
  {
   "cell_type": "code",
   "execution_count": 3,
   "id": "84f009f3-60fa-45c4-92f6-a632246dde6e",
   "metadata": {},
   "outputs": [
    {
     "name": "stdout",
     "output_type": "stream",
     "text": [
      "\n",
      "好的 outfits 儲存在 good_outfits_america.csv 中，共 1013 筆資料。\n",
      "\n",
      "不完全的 outfits index 有 46 筆：[25, 29, 32, 43, 98, 102, 108, 121, 124, 130, 140, 144, 146, 148, 175, 198, 258, 265, 271, 318, 374, 380, 384, 392, 488, 541, 553, 555, 586, 591, 600, 603, 648, 652, 698, 763, 782, 791, 826, 864, 951, 957, 975, 1021, 1023, 1051]\n",
      ".DS_Store\n",
      "\n",
      "好的 outfits 儲存在 good_outfits_japan.csv 中，共 849 筆資料。\n",
      "\n",
      "不完全的 outfits index 有 156 筆：[12, 29, 34, 39, 42, 58, 64, 65, 66, 74, 75, 82, 108, 117, 128, 134, 148, 154, 163, 170, 171, 178, 191, 192, 198, 207, 211, 221, 231, 241, 263, 269, 277, 305, 312, 314, 316, 317, 322, 325, 330, 332, 334, 336, 348, 350, 355, 358, 360, 363, 369, 373, 376, 379, 380, 382, 384, 385, 394, 405, 406, 412, 452, 458, 466, 470, 475, 481, 492, 495, 496, 506, 507, 511, 514, 522, 533, 553, 560, 565, 570, 616, 628, 643, 661, 677, 678, 684, 693, 704, 705, 719, 720, 723, 730, 733, 737, 738, 740, 742, 747, 751, 754, 755, 762, 763, 764, 765, 769, 770, 771, 772, 774, 777, 782, 791, 792, 794, 804, 805, 806, 809, 812, 825, 830, 836, 846, 850, 852, 859, 862, 863, 869, 873, 875, 881, 892, 900, 904, 909, 913, 920, 926, 930, 936, 941, 946, 948, 949, 952, 959, 960, 962, 971, 990, 992]\n",
      "\n",
      "好的 outfits 儲存在 good_outfits_korea.csv 中，共 698 筆資料。\n",
      "\n",
      "不完全的 outfits index 有 307 筆：[1, 6, 10, 12, 14, 19, 21, 28, 38, 45, 48, 54, 57, 58, 66, 72, 79, 80, 81, 83, 84, 86, 93, 94, 96, 98, 99, 102, 103, 108, 110, 112, 117, 119, 120, 132, 135, 144, 149, 151, 152, 153, 154, 157, 158, 159, 161, 165, 166, 167, 171, 183, 193, 194, 195, 196, 198, 200, 203, 206, 207, 208, 216, 219, 226, 229, 244, 249, 250, 251, 252, 253, 255, 257, 258, 260, 261, 262, 265, 266, 270, 271, 282, 285, 288, 294, 301, 304, 310, 311, 314, 318, 322, 323, 324, 326, 333, 334, 339, 346, 350, 353, 358, 359, 360, 361, 363, 367, 379, 381, 382, 385, 386, 387, 391, 392, 393, 398, 399, 400, 401, 409, 412, 413, 420, 427, 428, 430, 431, 440, 445, 449, 450, 453, 454, 458, 462, 464, 466, 473, 474, 480, 481, 483, 485, 489, 493, 502, 508, 513, 518, 520, 522, 523, 525, 526, 532, 536, 539, 548, 550, 555, 556, 562, 565, 576, 580, 585, 586, 593, 594, 596, 599, 603, 608, 609, 616, 624, 626, 628, 629, 630, 631, 636, 638, 641, 645, 646, 658, 659, 676, 677, 693, 697, 703, 712, 718, 721, 722, 725, 743, 750, 756, 769, 771, 777, 781, 789, 790, 791, 793, 802, 810, 815, 817, 818, 820, 822, 824, 825, 827, 828, 829, 830, 831, 832, 833, 834, 835, 836, 837, 838, 840, 842, 858, 871, 878, 881, 882, 884, 886, 889, 895, 896, 897, 898, 899, 900, 901, 903, 904, 907, 911, 913, 914, 916, 918, 920, 923, 924, 926, 929, 931, 932, 933, 934, 935, 936, 938, 939, 941, 943, 944, 946, 947, 948, 949, 950, 952, 953, 957, 958, 963, 964, 965, 970, 971, 978, 980, 982, 986, 987, 988, 989, 990, 991, 992, 993, 994, 996, 997, 998, 999, 1000, 1001, 1003, 1005]\n"
     ]
    }
   ],
   "source": [
    "outfits_a = get_outfits(\"america\", \"0\")\n",
    "outfits_j = get_outfits(\"japan\", \"1\")\n",
    "outfits_k = get_outfits(\"korea\", \"2\")"
   ]
  },
  {
   "cell_type": "markdown",
   "id": "6f722a77-7066-49eb-90b5-63fe49947dee",
   "metadata": {},
   "source": [
    "### 1. 每個 style 各取 698 個 outfits"
   ]
  },
  {
   "cell_type": "code",
   "execution_count": 4,
   "id": "9c460ac9-7015-46ce-b605-95b22717a3ac",
   "metadata": {},
   "outputs": [
    {
     "name": "stdout",
     "output_type": "stream",
     "text": [
      "好的 outfits 儲存在 good_outfits.csv 中，共 2094 筆資料。\n"
     ]
    }
   ],
   "source": [
    "import random\n",
    "random.seed(42)\n",
    "\n",
    "# get 698 data per style\n",
    "n = 698\n",
    "sampled_outfits_a = random.sample(outfits_a, n)\n",
    "sampled_outfits_j = random.sample(outfits_j, n)\n",
    "sampled_outfits_k = random.sample(outfits_k, n)\n",
    "\n",
    "all_sampled_outfits = sampled_outfits_a + sampled_outfits_j + sampled_outfits_k\n",
    "\n",
    "# sort\n",
    "def sort_key(outfit):\n",
    "    parts = outfit[\"index\"].split('_')\n",
    "    return (int(parts[0]), int(parts[1]))\n",
    "\n",
    "all_sampled_outfits.sort(key=sort_key)\n",
    "\n",
    "# write\n",
    "good_outfits_file = \"good_outfits.csv\"\n",
    "\n",
    "with open(good_outfits_file, mode='w', newline='') as file:\n",
    "    writer = csv.DictWriter(file, fieldnames=[\"index\", \"img_path\", \"img_pathE\", \"img_pathQ\"])\n",
    "    writer.writeheader()\n",
    "    for outfit in all_sampled_outfits:\n",
    "        writer.writerow(outfit)\n",
    "\n",
    "print(f\"好的 outfits 儲存在 {good_outfits_file} 中，共 {len(all_sampled_outfits)} 筆資料。\")"
   ]
  },
  {
   "cell_type": "markdown",
   "id": "95fc98f7-f519-4804-ae0a-151a1246bbe4",
   "metadata": {},
   "source": [
    "### 2. + 台風"
   ]
  },
  {
   "cell_type": "code",
   "execution_count": 13,
   "id": "cd4c4f1f-a3cc-4502-a257-390c0ff512ee",
   "metadata": {},
   "outputs": [
    {
     "name": "stdout",
     "output_type": "stream",
     "text": [
      "\n",
      "好的 outfits 儲存在 good_outfits_taiwan.csv 中，共 880 筆資料。\n",
      "\n",
      "不完全的 outfits index 有 245 筆：[9, 11, 22, 25, 26, 27, 28, 31, 33, 39, 41, 46, 49, 53, 55, 56, 57, 58, 65, 70, 71, 75, 76, 78, 79, 80, 82, 85, 86, 87, 89, 95, 96, 97, 100, 107, 108, 127, 129, 140, 142, 151, 154, 156, 158, 159, 167, 176, 177, 179, 183, 187, 191, 192, 201, 202, 206, 207, 223, 225, 226, 229, 232, 233, 245, 247, 250, 251, 252, 253, 261, 265, 267, 268, 291, 293, 299, 302, 305, 306, 307, 325, 332, 338, 346, 350, 353, 358, 359, 367, 368, 369, 372, 373, 378, 381, 383, 385, 386, 387, 390, 395, 397, 399, 402, 404, 405, 406, 407, 408, 414, 415, 420, 421, 422, 428, 434, 435, 441, 442, 456, 457, 458, 461, 462, 464, 469, 471, 473, 474, 480, 485, 488, 490, 495, 500, 501, 506, 507, 509, 515, 527, 528, 532, 538, 541, 555, 558, 560, 564, 576, 610, 620, 621, 626, 629, 630, 634, 637, 641, 645, 655, 659, 661, 663, 665, 673, 693, 700, 706, 710, 723, 733, 735, 748, 752, 755, 760, 761, 764, 766, 769, 781, 782, 785, 790, 800, 818, 822, 823, 830, 845, 847, 851, 853, 864, 870, 872, 873, 875, 880, 882, 890, 895, 896, 902, 906, 914, 921, 924, 926, 932, 933, 934, 935, 938, 941, 945, 957, 964, 975, 976, 977, 978, 981, 982, 989, 994, 999, 1012, 1016, 1022, 1030, 1034, 1068, 1072, 1077, 1081, 1085, 1090, 1092, 1095, 1097, 1118, 1119]\n"
     ]
    }
   ],
   "source": [
    "import csv\n",
    "import random\n",
    "random.seed(42)\n",
    "\n",
    "\n",
    "# 0: 取出完整 outfits\n",
    "outfits_t = get_outfits(\"taiwan\", \"14\")\n",
    "\n",
    "# 1: 抽樣 698 個\n",
    "n = 698\n",
    "sampled_outfits_t = random.sample(outfits_t, n)\n",
    "\n",
    "# sort\n",
    "def sort_key(outfit):\n",
    "    parts = outfit[\"index\"].split('_')\n",
    "    return (int(parts[0]), int(parts[1]))\n",
    "\n",
    "sampled_outfits_t.sort(key=sort_key)"
   ]
  },
  {
   "cell_type": "code",
   "execution_count": 27,
   "id": "b21e1385-e8e5-42b1-9f16-6c9ddf948883",
   "metadata": {},
   "outputs": [
    {
     "name": "stdout",
     "output_type": "stream",
     "text": [
      "追加好的 outfits 儲存在 good4_outfits.csv 中，共 2792 筆資料。\n"
     ]
    }
   ],
   "source": [
    "import shutil\n",
    "\n",
    "# 2: 追加台風\n",
    "# 讀取現有的 good_outfits.csv 檔案\n",
    "good_outfits_file = \"good_outfits.csv\"\n",
    "good4_outfits_file = \"good4_outfits.csv\"\n",
    "shutil.copyfile(good_outfits_file, good4_outfits_file)\n",
    "\n",
    "with open(good4_outfits_file, mode='a+', newline='') as file:\n",
    "    writer = csv.DictWriter(file, fieldnames=[\"index\", \"img_path\", \"img_pathE\", \"img_pathQ\"])\n",
    "    writer.writeheader()\n",
    "    for outfit in sampled_outfits_t:\n",
    "        writer.writerow(outfit)\n",
    "        \n",
    "with open(good4_outfits_file, mode='r', newline='') as file:\n",
    "    reader = csv.DictReader(file)\n",
    "    row_count = sum(1 for row in reader)\n",
    "    row_count = row_count - 1\n",
    "\n",
    "    print(f\"追加好的 outfits 儲存在 {good4_outfits_file} 中，共 {row_count} 筆資料。\")"
   ]
  },
  {
   "cell_type": "markdown",
   "id": "901163aa-dc0b-4476-bc1e-0167b20eca36",
   "metadata": {},
   "source": [
    "### 3. end"
   ]
  }
 ],
 "metadata": {
  "kernelspec": {
   "display_name": "Python 3 (ipykernel)",
   "language": "python",
   "name": "python3"
  },
  "language_info": {
   "codemirror_mode": {
    "name": "ipython",
    "version": 3
   },
   "file_extension": ".py",
   "mimetype": "text/x-python",
   "name": "python",
   "nbconvert_exporter": "python",
   "pygments_lexer": "ipython3",
   "version": "3.9.12"
  }
 },
 "nbformat": 4,
 "nbformat_minor": 5
}
